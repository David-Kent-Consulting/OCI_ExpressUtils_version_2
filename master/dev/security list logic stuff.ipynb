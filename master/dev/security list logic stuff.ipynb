{
 "cells": [
  {
   "cell_type": "code",
   "execution_count": 1,
   "metadata": {},
   "outputs": [],
   "source": [
    "import csv\n",
    "import os.path\n",
    "import sys\n",
    "from lib.general import get_protocol\n",
    "from lib.compartments import GetParentCompartments\n",
    "from lib.compartments import GetChildCompartments\n",
    "from lib.securitylists import prepare_csv_record\n",
    "from lib.securitylists import export_security_list_rules_to_csv\n",
    "# from lib.securitylists import export_egress_security_list_rules\n",
    "# from lib.securitylists import export_ingress_security_list_rules\n",
    "from lib.securitylists import GetNetworkSecurityList\n",
    "from lib.vcns import GetVirtualCloudNetworks\n",
    "from oci.config import from_file\n",
    "from oci.identity import IdentityClient\n",
    "from oci.core import VirtualNetworkClient"
   ]
  },
  {
   "cell_type": "code",
   "execution_count": 2,
   "metadata": {},
   "outputs": [],
   "source": [
    "parent_compartment_name = \"admin_comp\"\n",
    "child_compartment_name = \"auto_comp\"\n",
    "virtual_cloud_network_name = \"auto_vcn\"\n",
    "security_list_name = \"auto_sec\"\n",
    "region = \"us-ashburn-1\"\n",
    "option = \"--csv\"\n",
    "security_rule_export_file = security_list_name + \"_rules.csv\"\n"
   ]
  },
  {
   "cell_type": "code",
   "execution_count": 3,
   "metadata": {},
   "outputs": [],
   "source": [
    "config = from_file() # gets ~./.oci/config and reads to the object\n",
    "config[\"region\"] = region # Must set the cloud region\n",
    "identity_client = IdentityClient(config) # builds the identity client method, required to manage compartments\n",
    "network_client = VirtualNetworkClient(config) # builds the network client method, required to manage network resources"
   ]
  },
  {
   "cell_type": "code",
   "execution_count": 4,
   "metadata": {},
   "outputs": [],
   "source": [
    "parent_compartments = GetParentCompartments(parent_compartment_name, config, identity_client)\n",
    "parent_compartments.populate_compartments()\n",
    "parent_compartment = parent_compartments.return_parent_compartment()"
   ]
  },
  {
   "cell_type": "code",
   "execution_count": 5,
   "metadata": {},
   "outputs": [],
   "source": [
    "child_compartments = GetChildCompartments(\n",
    "    parent_compartment.id,\n",
    "    child_compartment_name,\n",
    "    identity_client)\n",
    "child_compartments.populate_compartments()\n",
    "child_compartment = child_compartments.return_child_compartment()\n"
   ]
  },
  {
   "cell_type": "code",
   "execution_count": 6,
   "metadata": {},
   "outputs": [],
   "source": [
    "virtual_cloud_networks = GetVirtualCloudNetworks(\n",
    "    network_client,\n",
    "    child_compartment.id,\n",
    "    virtual_cloud_network_name)\n",
    "virtual_cloud_networks.populate_virtual_cloud_networks()\n",
    "virtual_cloud_network = virtual_cloud_networks.return_virtual_cloud_network()\n"
   ]
  },
  {
   "cell_type": "code",
   "execution_count": 7,
   "metadata": {},
   "outputs": [],
   "source": [
    "security_lists = GetNetworkSecurityList(\n",
    "    network_client,\n",
    "    child_compartment.id,\n",
    "    virtual_cloud_network.id,\n",
    "    security_list_name\n",
    ")\n",
    "security_lists.populate_security_lists()\n",
    "security_list = security_lists.return_security_list()"
   ]
  },
  {
   "cell_type": "code",
   "execution_count": 8,
   "metadata": {},
   "outputs": [],
   "source": [
    "ingress_rules = security_list.ingress_security_rules"
   ]
  },
  {
   "cell_type": "code",
   "execution_count": 9,
   "metadata": {},
   "outputs": [],
   "source": [
    "egress_rules = security_list.egress_security_rules"
   ]
  },
  {
   "cell_type": "code",
   "execution_count": 10,
   "metadata": {},
   "outputs": [
    {
     "data": {
      "text/plain": [
       "{'description': 'Sample rule permits all ICMP traffic to tenancy of type 0 with message code 1 to a subnet',\n",
       " 'icmp_options': {'code': 1, 'type': 0},\n",
       " 'is_stateless': False,\n",
       " 'protocol': 'ICMP',\n",
       " 'destination': '172.16.0.0/24',\n",
       " 'destination_type': 'CIDR_BLOCK',\n",
       " 'source': None,\n",
       " 'source_type': '',\n",
       " 'tcp_options': {'destination_port_range': {'max': '', 'min': ''},\n",
       "  'source_port_range': {'max': '', 'min': ''}},\n",
       " 'udp_options': {'destination_port_range': {'max': '', 'min': ''},\n",
       "  'source_port_range': {'max': '', 'min': ''}}}"
      ]
     },
     "execution_count": 10,
     "metadata": {},
     "output_type": "execute_result"
    }
   ],
   "source": [
    "prepare_csv_record(egress_rules[2])"
   ]
  },
  {
   "cell_type": "code",
   "execution_count": 11,
   "metadata": {},
   "outputs": [],
   "source": [
    "security_rules = []\n",
    "for rule in ingress_rules:\n",
    "    security_rules.append(rule)\n",
    "for rule in egress_rules:\n",
    "    security_rules.append(rule)"
   ]
  },
  {
   "cell_type": "code",
   "execution_count": 12,
   "metadata": {},
   "outputs": [],
   "source": [
    "export_security_list_rules_to_csv(\n",
    "    security_rule_export_file,\n",
    "    security_rules,\n",
    "    \";\")"
   ]
  },
  {
   "cell_type": "code",
   "execution_count": null,
   "metadata": {},
   "outputs": [],
   "source": []
  }
 ],
 "metadata": {
  "kernelspec": {
   "display_name": "Python 3",
   "language": "python",
   "name": "python3"
  },
  "language_info": {
   "codemirror_mode": {
    "name": "ipython",
    "version": 3
   },
   "file_extension": ".py",
   "mimetype": "text/x-python",
   "name": "python",
   "nbconvert_exporter": "python",
   "pygments_lexer": "ipython3",
   "version": "3.8.5"
  }
 },
 "nbformat": 4,
 "nbformat_minor": 4
}
