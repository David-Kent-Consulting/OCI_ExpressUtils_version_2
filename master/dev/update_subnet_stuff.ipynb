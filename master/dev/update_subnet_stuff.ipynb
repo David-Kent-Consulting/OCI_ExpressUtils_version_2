{
 "cells": [
  {
   "cell_type": "code",
   "execution_count": 1,
   "metadata": {},
   "outputs": [],
   "source": [
    "import os.path\n",
    "import sys\n",
    "from lib.general import GetInputOptions\n",
    "from lib.compartments import GetParentCompartments\n",
    "from lib.compartments import GetChildCompartments\n",
    "from lib.routetables import GetRouteTable\n",
    "from lib.securitylists import GetNetworkSecurityList\n",
    "from lib.subnets import add_subnet\n",
    "from lib.subnets import GetSubnet\n",
    "from lib.vcns import GetVirtualCloudNetworks\n",
    "from oci.config import from_file\n",
    "from oci.identity import IdentityClient\n",
    "from oci.core import VirtualNetworkClient\n",
    "from oci.core.models import UpdateSubnetDetails"
   ]
  },
  {
   "cell_type": "code",
   "execution_count": 12,
   "metadata": {},
   "outputs": [],
   "source": [
    "argv = []\n",
    "argv.append(\"command.py\")\n",
    "argv.append(\"admin_comp\")\n",
    "argv.append(\"auto_vcn\")\n",
    "argv.append(\"auto_sub\")\n",
    "argv.append(\"us-ashburn-1\")\n",
    "argv.append(\"--CIDR-BLOCK\")\n",
    "argv.append(\"10.1.0.0/24\")\n",
    "argv.append(\"--DHCP-OPTIONS\")\n",
    "argv.append(\"my_dhcp_option\")\n",
    "argv.append(\"--DISPLAY-NAME\")\n",
    "argv.append(\"auto_sub\")\n",
    "argv.append(\"--SECURITY-LIST\")\n",
    "argv.append(\"auto_sec\")\n",
    "argv.append(\"--ROUTE-TABLE\")\n",
    "argv.append(\"auto_rtb\")\n",
    "#argv.append(\"over the limit\")\n",
    "#argv.append(\"overt the limit\")\n",
    "cidr_block = []\n",
    "dhcp_options = []\n",
    "display_name = []\n",
    "security_list = []\n",
    "route_table = []\n",
    "region = \"us-ashburn-1\"\n",
    "parent_compartment_name = \"admin_comp\"\n",
    "child_compartment_name = \"auto_comp\"\n",
    "virtual_cloud_network_name = \"auto_vcn\""
   ]
  },
  {
   "cell_type": "code",
   "execution_count": 13,
   "metadata": {},
   "outputs": [],
   "source": [
    "argument_list = GetInputOptions(argv)"
   ]
  },
  {
   "cell_type": "code",
   "execution_count": 14,
   "metadata": {},
   "outputs": [],
   "source": [
    "argument_list.populate_input_options(5)"
   ]
  },
  {
   "cell_type": "code",
   "execution_count": 15,
   "metadata": {},
   "outputs": [],
   "source": [
    "config = from_file() # gets ~./.oci/config and reads to the object\n",
    "config[\"region\"] = region # Must set the cloud region\n",
    "identity_client = IdentityClient(config) # builds the identity client method, required to manage compartments\n",
    "network_client = VirtualNetworkClient(config) # builds the network client method, required to manage network resources\n"
   ]
  },
  {
   "cell_type": "code",
   "execution_count": 16,
   "metadata": {},
   "outputs": [],
   "source": [
    "parent_compartments = GetParentCompartments(parent_compartment_name, config, identity_client)\n",
    "parent_compartments.populate_compartments()\n",
    "parent_compartment = parent_compartments.return_parent_compartment()"
   ]
  },
  {
   "cell_type": "code",
   "execution_count": 17,
   "metadata": {},
   "outputs": [],
   "source": [
    "child_compartments = GetChildCompartments(\n",
    "    parent_compartment.id,\n",
    "    child_compartment_name,\n",
    "    identity_client)\n",
    "child_compartments.populate_compartments()\n",
    "child_compartment = child_compartments.return_child_compartment()"
   ]
  },
  {
   "cell_type": "code",
   "execution_count": 18,
   "metadata": {},
   "outputs": [],
   "source": [
    "virtual_cloud_networks = GetVirtualCloudNetworks(\n",
    "    network_client,\n",
    "    child_compartment.id,\n",
    "    virtual_cloud_network_name)\n",
    "virtual_cloud_networks.populate_virtual_cloud_networks()\n",
    "virtual_cloud_network = virtual_cloud_networks.return_virtual_cloud_network()"
   ]
  },
  {
   "cell_type": "code",
   "execution_count": null,
   "metadata": {},
   "outputs": [],
   "source": []
  },
  {
   "cell_type": "code",
   "execution_count": 5,
   "metadata": {},
   "outputs": [
    {
     "data": {
      "text/plain": [
       "'10.1.0.0/24'"
      ]
     },
     "execution_count": 5,
     "metadata": {},
     "output_type": "execute_result"
    }
   ],
   "source": [
    "if \"--CIDR-BLOCK\" in argument_list.options_list_with_input:\n",
    "    cidr_block = argument_list.return_input_option_data(\"--CIDR-BLOCK\")\n",
    "cidr_block"
   ]
  },
  {
   "cell_type": "code",
   "execution_count": 6,
   "metadata": {},
   "outputs": [
    {
     "data": {
      "text/plain": [
       "'my_dhcp_option'"
      ]
     },
     "execution_count": 6,
     "metadata": {},
     "output_type": "execute_result"
    }
   ],
   "source": [
    "if \"--DHCP-OPTIONS\" in argument_list.options_list_with_input:\n",
    "    dhcp_options = argument_list.return_input_option_data(\"--DHCP-OPTIONS\")\n",
    "dhcp_options"
   ]
  },
  {
   "cell_type": "code",
   "execution_count": 7,
   "metadata": {},
   "outputs": [
    {
     "data": {
      "text/plain": [
       "'auto_sub'"
      ]
     },
     "execution_count": 7,
     "metadata": {},
     "output_type": "execute_result"
    }
   ],
   "source": [
    "if \"--DISPLAY-NAME\" in argument_list.options_list_with_input:\n",
    "    display_name = argument_list.return_input_option_data(\"--DISPLAY-NAME\")\n",
    "display_name"
   ]
  },
  {
   "cell_type": "code",
   "execution_count": 8,
   "metadata": {},
   "outputs": [
    {
     "data": {
      "text/plain": [
       "'auto_sec'"
      ]
     },
     "execution_count": 8,
     "metadata": {},
     "output_type": "execute_result"
    }
   ],
   "source": [
    "if \"--SECURITY-LIST\" in argument_list.options_list_with_input:\n",
    "    security_lists = GetNetworkSecurityList(\n",
    "        network_client,\n",
    "        \n",
    "    )\n",
    "    security_list = argument_list.return_input_option_data(\"--SECURITY-LIST\")\n"
   ]
  },
  {
   "cell_type": "code",
   "execution_count": 9,
   "metadata": {},
   "outputs": [
    {
     "data": {
      "text/plain": [
       "'auto_rtb'"
      ]
     },
     "execution_count": 9,
     "metadata": {},
     "output_type": "execute_result"
    }
   ],
   "source": [
    "if \"--ROUTE-TABLE\" in argument_list.options_list_with_input:\n",
    "    route_table = argument_list.return_input_option_data(\"--ROUTE-TABLE\")\n",
    "route_table"
   ]
  },
  {
   "cell_type": "code",
   "execution_count": null,
   "metadata": {},
   "outputs": [],
   "source": []
  },
  {
   "cell_type": "code",
   "execution_count": null,
   "metadata": {},
   "outputs": [],
   "source": []
  },
  {
   "cell_type": "code",
   "execution_count": null,
   "metadata": {},
   "outputs": [],
   "source": []
  },
  {
   "cell_type": "code",
   "execution_count": null,
   "metadata": {},
   "outputs": [],
   "source": []
  },
  {
   "cell_type": "code",
   "execution_count": null,
   "metadata": {},
   "outputs": [],
   "source": []
  },
  {
   "cell_type": "code",
   "execution_count": null,
   "metadata": {},
   "outputs": [],
   "source": []
  },
  {
   "cell_type": "code",
   "execution_count": null,
   "metadata": {},
   "outputs": [],
   "source": []
  },
  {
   "cell_type": "code",
   "execution_count": null,
   "metadata": {},
   "outputs": [],
   "source": []
  },
  {
   "cell_type": "code",
   "execution_count": null,
   "metadata": {},
   "outputs": [],
   "source": []
  }
 ],
 "metadata": {
  "kernelspec": {
   "display_name": "Python 3",
   "language": "python",
   "name": "python3"
  },
  "language_info": {
   "codemirror_mode": {
    "name": "ipython",
    "version": 3
   },
   "file_extension": ".py",
   "mimetype": "text/x-python",
   "name": "python",
   "nbconvert_exporter": "python",
   "pygments_lexer": "ipython3",
   "version": "3.8.5"
  }
 },
 "nbformat": 4,
 "nbformat_minor": 4
}
