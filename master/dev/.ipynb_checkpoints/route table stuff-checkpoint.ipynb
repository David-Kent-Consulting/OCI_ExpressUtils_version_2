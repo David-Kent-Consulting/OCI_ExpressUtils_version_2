{
 "cells": [
  {
   "cell_type": "code",
   "execution_count": 1,
   "metadata": {},
   "outputs": [],
   "source": [
    "import os.path\n",
    "import sys\n",
    "from lib.compartments import GetParentCompartments\n",
    "from lib.compartments import GetChildCompartments\n",
    "from lib.subnets import add_subnet\n",
    "from lib.subnets import GetSubnet\n",
    "from lib.vcns import GetVirtualCloudNetworks\n",
    "from oci.config import from_file\n",
    "from oci.identity import IdentityClient\n",
    "from oci.core import VirtualNetworkClient"
   ]
  },
  {
   "cell_type": "code",
   "execution_count": 2,
   "metadata": {},
   "outputs": [],
   "source": [
    "config = from_file() # gets ~./.oci/config and reads to the object\n",
    "identity_client = IdentityClient(config) # builds the identity client method, required to manage compartments\n",
    "network_client = VirtualNetworkClient(config) # builds the network client method, required to manage network resources"
   ]
  },
  {
   "cell_type": "code",
   "execution_count": 3,
   "metadata": {},
   "outputs": [],
   "source": [
    "parent_compartment_name = \"admin_comp\"\n",
    "child_compartment_name = \"web_comp\"\n",
    "virtual_cloud_network = \"web_vcn\"\n",
    "route_table_name = \"web_rtb\""
   ]
  },
  {
   "cell_type": "code",
   "execution_count": 4,
   "metadata": {},
   "outputs": [],
   "source": [
    "# Get parent compartment\n",
    "parent_compartments = GetParentCompartments(parent_compartment_name, config, identity_client)\n",
    "parent_compartments.populate_compartments()\n",
    "parent_compartment = parent_compartments.return_parent_compartment()"
   ]
  },
  {
   "cell_type": "code",
   "execution_count": 7,
   "metadata": {},
   "outputs": [],
   "source": [
    "# Get child compartment\n",
    "child_compartments = GetChildCompartments(parent_compartment.id, child_compartment_name, identity_client)\n",
    "child_compartments.populate_compartments()\n",
    "child_compartment = child_compartments.return_child_compartment()"
   ]
  },
  {
   "cell_type": "code",
   "execution_count": 8,
   "metadata": {},
   "outputs": [],
   "source": []
  },
  {
   "cell_type": "code",
   "execution_count": 9,
   "metadata": {},
   "outputs": [],
   "source": []
  },
  {
   "cell_type": "code",
   "execution_count": null,
   "metadata": {},
   "outputs": [],
   "source": []
  }
 ],
 "metadata": {
  "kernelspec": {
   "display_name": "Python 3",
   "language": "python",
   "name": "python3"
  },
  "language_info": {
   "codemirror_mode": {
    "name": "ipython",
    "version": 3
   },
   "file_extension": ".py",
   "mimetype": "text/x-python",
   "name": "python",
   "nbconvert_exporter": "python",
   "pygments_lexer": "ipython3",
   "version": "3.8.5"
  }
 },
 "nbformat": 4,
 "nbformat_minor": 4
}
