{
 "cells": [
  {
   "cell_type": "code",
   "execution_count": 1,
   "metadata": {},
   "outputs": [],
   "source": [
    "from lib.compartments import GetParentCompartments\n",
    "from lib.compartments import GetChildCompartments\n",
    "from lib.vcns import GetVirtualCloudNetworks\n",
    "from oci.config import from_file\n",
    "from oci.identity import IdentityClient\n",
    "from oci.core import VirtualNetworkClient\n",
    "from oci.core.models import CreateSubnetDetails"
   ]
  },
  {
   "cell_type": "code",
   "execution_count": 2,
   "metadata": {},
   "outputs": [],
   "source": [
    "config = from_file()\n",
    "identity_client = IdentityClient(config)\n",
    "network_client = VirtualNetworkClient(config)\n",
    "parent_compartment_name = \"admin_comp\"\n",
    "child_compartment_name  = \"auto_comp\"\n",
    "virtual_cloud_network_name = \"auto_vcn\"\n",
    "region = \"us-ashburn-1\""
   ]
  },
  {
   "cell_type": "code",
   "execution_count": 3,
   "metadata": {},
   "outputs": [],
   "source": [
    "parent_compartments = GetParentCompartments(parent_compartment_name, config, identity_client)"
   ]
  },
  {
   "cell_type": "code",
   "execution_count": 4,
   "metadata": {},
   "outputs": [],
   "source": [
    "parent_compartments.populate_compartments()"
   ]
  },
  {
   "cell_type": "code",
   "execution_count": 5,
   "metadata": {},
   "outputs": [],
   "source": [
    "parent_compartment = parent_compartments.return_parent_compartment()"
   ]
  },
  {
   "cell_type": "code",
   "execution_count": 6,
   "metadata": {},
   "outputs": [],
   "source": [
    "child_compartments = GetChildCompartments(parent_compartment.id, child_compartment_name, identity_client)"
   ]
  },
  {
   "cell_type": "code",
   "execution_count": 9,
   "metadata": {},
   "outputs": [],
   "source": [
    "child_compartments.populate_compartments()"
   ]
  },
  {
   "cell_type": "code",
   "execution_count": 12,
   "metadata": {},
   "outputs": [],
   "source": [
    "child_compartment = child_compartments.return_child_compartment()"
   ]
  },
  {
   "cell_type": "code",
   "execution_count": 14,
   "metadata": {},
   "outputs": [],
   "source": [
    "virtual_cloud_networks = GetVirtualCloudNetworks(network_client, child_compartment.id, virtual_cloud_network_name)"
   ]
  },
  {
   "cell_type": "code",
   "execution_count": 16,
   "metadata": {},
   "outputs": [],
   "source": [
    "virtual_cloud_networks.populate_virtual_cloud_networks()"
   ]
  },
  {
   "cell_type": "code",
   "execution_count": 18,
   "metadata": {},
   "outputs": [],
   "source": [
    "virtual_cloud_network = virtual_cloud_networks.return_virtual_cloud_network()"
   ]
  },
  {
   "cell_type": "code",
   "execution_count": null,
   "metadata": {},
   "outputs": [],
   "source": []
  },
  {
   "cell_type": "code",
   "execution_count": null,
   "metadata": {},
   "outputs": [],
   "source": []
  }
 ],
 "metadata": {
  "kernelspec": {
   "display_name": "Python 3",
   "language": "python",
   "name": "python3"
  },
  "language_info": {
   "codemirror_mode": {
    "name": "ipython",
    "version": 3
   },
   "file_extension": ".py",
   "mimetype": "text/x-python",
   "name": "python",
   "nbconvert_exporter": "python",
   "pygments_lexer": "ipython3",
   "version": "3.8.5"
  }
 },
 "nbformat": 4,
 "nbformat_minor": 4
}
