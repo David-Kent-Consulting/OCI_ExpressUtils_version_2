{
 "cells": [
  {
   "cell_type": "code",
   "execution_count": 1,
   "metadata": {},
   "outputs": [],
   "source": [
    "import oci\n",
    "import lib.compartments\n",
    "import os.path\n",
    "import sys"
   ]
  },
  {
   "cell_type": "code",
   "execution_count": null,
   "metadata": {},
   "outputs": [],
   "source": []
  },
  {
   "cell_type": "code",
   "execution_count": 2,
   "metadata": {},
   "outputs": [],
   "source": [
    "sys.argv = [\"admin_comp\"]\n",
    "option = []"
   ]
  },
  {
   "cell_type": "code",
   "execution_count": 3,
   "metadata": {},
   "outputs": [],
   "source": [
    "# We require the parent compartment name for this tool. An option can be passed as the second\n",
    "# argument.\n",
    "if len(sys.argv) == 0 or len(sys.argv) > 2: # ARGS PLUS COMMAND\n",
    "    raise RuntimeError(print(\"EXCEPTION! The parent compartment name must be supplied as the first argument in the argument list. There may not be more than 2 arguments given to Get-OciCompartment.pyPlease consuylt the documentation and try again.\\n\"))\n",
    "elif len(sys.argv) == 2:\n",
    "    option = sys.argv[1].upper()\n",
    "    process_option = True\n",
    "parent_compartment_name = sys.argv[0]"
   ]
  },
  {
   "cell_type": "code",
   "execution_count": 4,
   "metadata": {},
   "outputs": [
    {
     "data": {
      "text/plain": [
       "[]"
      ]
     },
     "execution_count": 4,
     "metadata": {},
     "output_type": "execute_result"
    }
   ],
   "source": [
    "option"
   ]
  },
  {
   "cell_type": "code",
   "execution_count": 5,
   "metadata": {},
   "outputs": [],
   "source": [
    "# initialize the environment\n",
    "config = oci.config.from_file()\n",
    "identity_client = oci.identity.IdentityClient(config)\n",
    "my_compartments = lib.compartments.GetParentCompartments(\"admin_comp\", config, identity_client)\n",
    "my_compartments.populate_compartments()"
   ]
  },
  {
   "cell_type": "code",
   "execution_count": 11,
   "metadata": {},
   "outputs": [
    {
     "name": "stdout",
     "output_type": "stream",
     "text": [
      "{\n",
      "  \"compartment_id\": \"ocid1.tenancy.oc1..aaaaaaaaoqsm6s5l4fgiurqfj6kgjewdeiesxzzgr5zyjmwiterd3qdfacfa\",\n",
      "  \"defined_tags\": {\n",
      "    \"Oracle-Tags\": {\n",
      "      \"CreatedBy\": \"oracleidentitycloudservice/hankwojteczko@davidkentconsulting.com\",\n",
      "      \"CreatedOn\": \"2020-05-27T16:56:31.181Z\"\n",
      "    }\n",
      "  },\n",
      "  \"description\": \"This is the parent compartment for the NWMSU cloud tenancy\",\n",
      "  \"freeform_tags\": {},\n",
      "  \"id\": \"ocid1.compartment.oc1..aaaaaaaabzrzyodkged4o75ugsr7fnsp3vmjabspxh43qp5cvoyo2cyv2spa\",\n",
      "  \"inactive_status\": null,\n",
      "  \"is_accessible\": null,\n",
      "  \"lifecycle_state\": \"ACTIVE\",\n",
      "  \"name\": \"admin_comp\",\n",
      "  \"time_created\": \"2020-05-27T16:56:31.231000+00:00\"\n",
      "}\n"
     ]
    }
   ],
   "source": [
    "if option == \"LIST\":\n",
    "        print(my_compartments.parent_compartments)\n",
    "else:\n",
    "    print(my_compartments.return_parent_compartment())"
   ]
  },
  {
   "cell_type": "code",
   "execution_count": null,
   "metadata": {},
   "outputs": [],
   "source": []
  },
  {
   "cell_type": "code",
   "execution_count": null,
   "metadata": {},
   "outputs": [],
   "source": []
  }
 ],
 "metadata": {
  "kernelspec": {
   "display_name": "Python 3",
   "language": "python",
   "name": "python3"
  },
  "language_info": {
   "codemirror_mode": {
    "name": "ipython",
    "version": 3
   },
   "file_extension": ".py",
   "mimetype": "text/x-python",
   "name": "python",
   "nbconvert_exporter": "python",
   "pygments_lexer": "ipython3",
   "version": "3.8.5"
  }
 },
 "nbformat": 4,
 "nbformat_minor": 4
}
