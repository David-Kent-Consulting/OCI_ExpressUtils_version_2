{
 "cells": [
  {
   "cell_type": "code",
   "execution_count": 1,
   "metadata": {},
   "outputs": [],
   "source": [
    "import oci\n",
    "import os.path\n",
    "import sys"
   ]
  },
  {
   "cell_type": "code",
   "execution_count": 2,
   "metadata": {},
   "outputs": [],
   "source": [
    "config = oci.config.from_file()\n",
    "container_engine_client = oci.container_engine.ContainerEngineClient(config)"
   ]
  },
  {
   "cell_type": "code",
   "execution_count": 3,
   "metadata": {},
   "outputs": [],
   "source": [
    "placement_config_details = []\n",
    "subnet_id = \"ocid1.subnet.oc1.iad.aaaaaaaaozeibmczkhqjvl6odtioqteqay56yfv77d75kgtzaundpmrmhbkq\"\n",
    "node_placement_config = oci.container_engine.models.NodePoolPlacementConfigDetails(\n",
    "    availability_domain = \"sIah:US-ASHBURN-AD-1\",\n",
    "    subnet_id = subnet_id\n",
    ")\n",
    "placement_config_details.append(node_placement_config)\n",
    "node_placement_config = oci.container_engine.models.NodePoolPlacementConfigDetails(\n",
    "    availability_domain = \"sIah:US-ASHBURN-AD-2\",\n",
    "    subnet_id = subnet_id\n",
    ")\n",
    "placement_config_details.append(node_placement_config)\n",
    "node_placement_config = oci.container_engine.models.NodePoolPlacementConfigDetails(\n",
    "    availability_domain = \"sIah:US-ASHBURN-AD-3\",\n",
    "    subnet_id = subnet_id\n",
    ")\n",
    "placement_config_details.append(node_placement_config)"
   ]
  },
  {
   "cell_type": "code",
   "execution_count": 4,
   "metadata": {},
   "outputs": [
    {
     "data": {
      "text/plain": [
       "[{\n",
       "   \"availability_domain\": \"sIah:US-ASHBURN-AD-1\",\n",
       "   \"subnet_id\": \"ocid1.subnet.oc1.iad.aaaaaaaaozeibmczkhqjvl6odtioqteqay56yfv77d75kgtzaundpmrmhbkq\"\n",
       " },\n",
       " {\n",
       "   \"availability_domain\": \"sIah:US-ASHBURN-AD-2\",\n",
       "   \"subnet_id\": \"ocid1.subnet.oc1.iad.aaaaaaaaozeibmczkhqjvl6odtioqteqay56yfv77d75kgtzaundpmrmhbkq\"\n",
       " },\n",
       " {\n",
       "   \"availability_domain\": \"sIah:US-ASHBURN-AD-3\",\n",
       "   \"subnet_id\": \"ocid1.subnet.oc1.iad.aaaaaaaaozeibmczkhqjvl6odtioqteqay56yfv77d75kgtzaundpmrmhbkq\"\n",
       " }]"
      ]
     },
     "execution_count": 4,
     "metadata": {},
     "output_type": "execute_result"
    }
   ],
   "source": [
    "placement_config_details"
   ]
  },
  {
   "cell_type": "code",
   "execution_count": 5,
   "metadata": {},
   "outputs": [],
   "source": [
    "node_config_details = oci.container_engine.models.CreateNodePoolNodeConfigDetails(\n",
    "    placement_configs = placement_config_details,\n",
    "    size = 3\n",
    ")"
   ]
  },
  {
   "cell_type": "code",
   "execution_count": 6,
   "metadata": {},
   "outputs": [
    {
     "data": {
      "text/plain": [
       "{\n",
       "  \"placement_configs\": [\n",
       "    {\n",
       "      \"availability_domain\": \"sIah:US-ASHBURN-AD-1\",\n",
       "      \"subnet_id\": \"ocid1.subnet.oc1.iad.aaaaaaaaozeibmczkhqjvl6odtioqteqay56yfv77d75kgtzaundpmrmhbkq\"\n",
       "    },\n",
       "    {\n",
       "      \"availability_domain\": \"sIah:US-ASHBURN-AD-2\",\n",
       "      \"subnet_id\": \"ocid1.subnet.oc1.iad.aaaaaaaaozeibmczkhqjvl6odtioqteqay56yfv77d75kgtzaundpmrmhbkq\"\n",
       "    },\n",
       "    {\n",
       "      \"availability_domain\": \"sIah:US-ASHBURN-AD-3\",\n",
       "      \"subnet_id\": \"ocid1.subnet.oc1.iad.aaaaaaaaozeibmczkhqjvl6odtioqteqay56yfv77d75kgtzaundpmrmhbkq\"\n",
       "    }\n",
       "  ],\n",
       "  \"size\": 3\n",
       "}"
      ]
     },
     "execution_count": 6,
     "metadata": {},
     "output_type": "execute_result"
    }
   ],
   "source": [
    "node_config_details"
   ]
  },
  {
   "cell_type": "code",
   "execution_count": 7,
   "metadata": {},
   "outputs": [
    {
     "ename": "TypeError",
     "evalue": "Unrecognized keyword arguments: image_id",
     "output_type": "error",
     "traceback": [
      "\u001b[0;31m---------------------------------------------------------------------------\u001b[0m",
      "\u001b[0;31mTypeError\u001b[0m                                 Traceback (most recent call last)",
      "\u001b[0;32m<ipython-input-7-1dfb6899e6ba>\u001b[0m in \u001b[0;36m<module>\u001b[0;34m\u001b[0m\n\u001b[1;32m      1\u001b[0m \u001b[0mimage_id\u001b[0m \u001b[0;34m=\u001b[0m \u001b[0;34m\"ocid1.image.oc1.iad.aaaaaaaag3s2smtrzrkdvrtengr2lakb6qavcvtdcfiwicmcsxcp7twiarfq\"\u001b[0m\u001b[0;34m\u001b[0m\u001b[0;34m\u001b[0m\u001b[0m\n\u001b[0;32m----> 2\u001b[0;31m node_source_details = oci.container_engine.models.NodeSourceDetails(\n\u001b[0m\u001b[1;32m      3\u001b[0m     \u001b[0msource_type\u001b[0m \u001b[0;34m=\u001b[0m \u001b[0;34m\"IMAGE\"\u001b[0m\u001b[0;34m,\u001b[0m\u001b[0;34m\u001b[0m\u001b[0;34m\u001b[0m\u001b[0m\n\u001b[1;32m      4\u001b[0m     \u001b[0mimage_id\u001b[0m \u001b[0;34m=\u001b[0m \u001b[0mimage_id\u001b[0m\u001b[0;34m\u001b[0m\u001b[0;34m\u001b[0m\u001b[0m\n\u001b[1;32m      5\u001b[0m )\n",
      "\u001b[0;32m~/anaconda3/lib/python3.8/site-packages/oci/decorators.py\u001b[0m in \u001b[0;36minit\u001b[0;34m(self, **kwargs)\u001b[0m\n\u001b[1;32m     23\u001b[0m \u001b[0;34m\u001b[0m\u001b[0m\n\u001b[1;32m     24\u001b[0m         \u001b[0;32mif\u001b[0m \u001b[0mkwargs\u001b[0m\u001b[0;34m:\u001b[0m\u001b[0;34m\u001b[0m\u001b[0;34m\u001b[0m\u001b[0m\n\u001b[0;32m---> 25\u001b[0;31m             \u001b[0;32mraise\u001b[0m \u001b[0mTypeError\u001b[0m\u001b[0;34m(\u001b[0m\u001b[0;34m'Unrecognized keyword arguments: {}'\u001b[0m\u001b[0;34m.\u001b[0m\u001b[0mformat\u001b[0m\u001b[0;34m(\u001b[0m\u001b[0;34m', '\u001b[0m\u001b[0;34m.\u001b[0m\u001b[0mjoin\u001b[0m\u001b[0;34m(\u001b[0m\u001b[0msix\u001b[0m\u001b[0;34m.\u001b[0m\u001b[0miterkeys\u001b[0m\u001b[0;34m(\u001b[0m\u001b[0mkwargs\u001b[0m\u001b[0;34m)\u001b[0m\u001b[0;34m)\u001b[0m\u001b[0;34m)\u001b[0m\u001b[0;34m)\u001b[0m\u001b[0;34m\u001b[0m\u001b[0;34m\u001b[0m\u001b[0m\n\u001b[0m\u001b[1;32m     26\u001b[0m \u001b[0;34m\u001b[0m\u001b[0m\n\u001b[1;32m     27\u001b[0m     \u001b[0;32mreturn\u001b[0m \u001b[0minit\u001b[0m\u001b[0;34m\u001b[0m\u001b[0;34m\u001b[0m\u001b[0m\n",
      "\u001b[0;31mTypeError\u001b[0m: Unrecognized keyword arguments: image_id"
     ]
    }
   ],
   "source": [
    "image_id = \"ocid1.image.oc1.iad.aaaaaaaag3s2smtrzrkdvrtengr2lakb6qavcvtdcfiwicmcsxcp7twiarfq\"\n",
    "node_source_details = oci.container_engine.models.NodeSourceDetails(\n",
    "    source_type = \"IMAGE\",\n",
    "    image_id = image_id\n",
    ")"
   ]
  },
  {
   "cell_type": "code",
   "execution_count": 8,
   "metadata": {},
   "outputs": [
    {
     "ename": "NameError",
     "evalue": "name 'node_source_details' is not defined",
     "output_type": "error",
     "traceback": [
      "\u001b[0;31m---------------------------------------------------------------------------\u001b[0m",
      "\u001b[0;31mNameError\u001b[0m                                 Traceback (most recent call last)",
      "\u001b[0;32m<ipython-input-8-8c92d3f15375>\u001b[0m in \u001b[0;36m<module>\u001b[0;34m\u001b[0m\n\u001b[0;32m----> 1\u001b[0;31m \u001b[0mnode_source_details\u001b[0m\u001b[0;34m\u001b[0m\u001b[0;34m\u001b[0m\u001b[0m\n\u001b[0m",
      "\u001b[0;31mNameError\u001b[0m: name 'node_source_details' is not defined"
     ]
    }
   ],
   "source": [
    "node_source_details"
   ]
  },
  {
   "cell_type": "code",
   "execution_count": null,
   "metadata": {},
   "outputs": [],
   "source": []
  },
  {
   "cell_type": "code",
   "execution_count": null,
   "metadata": {},
   "outputs": [],
   "source": []
  },
  {
   "cell_type": "code",
   "execution_count": 9,
   "metadata": {},
   "outputs": [
    {
     "ename": "NameError",
     "evalue": "name 'node_source_details' is not defined",
     "output_type": "error",
     "traceback": [
      "\u001b[0;31m---------------------------------------------------------------------------\u001b[0m",
      "\u001b[0;31mNameError\u001b[0m                                 Traceback (most recent call last)",
      "\u001b[0;32m<ipython-input-9-cd9e163cf32a>\u001b[0m in \u001b[0;36m<module>\u001b[0;34m\u001b[0m\n\u001b[1;32m     13\u001b[0m     \u001b[0mnode_config_details\u001b[0m \u001b[0;34m=\u001b[0m \u001b[0mnode_config_details\u001b[0m\u001b[0;34m,\u001b[0m\u001b[0;34m\u001b[0m\u001b[0;34m\u001b[0m\u001b[0m\n\u001b[1;32m     14\u001b[0m     \u001b[0mnode_shape\u001b[0m \u001b[0;34m=\u001b[0m \u001b[0mnode_shape\u001b[0m\u001b[0;34m,\u001b[0m\u001b[0;34m\u001b[0m\u001b[0;34m\u001b[0m\u001b[0m\n\u001b[0;32m---> 15\u001b[0;31m     \u001b[0mnode_source_details\u001b[0m \u001b[0;34m=\u001b[0m \u001b[0mnode_source_details\u001b[0m\u001b[0;34m\u001b[0m\u001b[0;34m\u001b[0m\u001b[0m\n\u001b[0m\u001b[1;32m     16\u001b[0m )\n",
      "\u001b[0;31mNameError\u001b[0m: name 'node_source_details' is not defined"
     ]
    }
   ],
   "source": [
    "cluster_id = \"ocid1.cluster.oc1.iad.aaaaaaaaae4dgndbgi4tontcmzrwinjrmnrwmnzumrswknbqgc2tem3gguyw\"\n",
    "compartment_id = \"ocid1.compartment.oc1..aaaaaaaax72hzvrgycxcodxot53uctyoqkxswv5cxcrhu6xyyjr6mlntk6qq\"\n",
    "kubernetes_version = \"v1.15.7\"\n",
    "name = \"NWMSUKBC01T04\"\n",
    "node_shape = \"VM.Standard2.2\"\n",
    "ssh_key = \"ssh-rsa AAAAB3NzaC1yc2EAAAADAQABAAABAQDnOulRB/oHiIR7uV4q+BVo8BDc5E7ixmcxvKwg9UyL+9YNT4lwYUd93k3LhP40LidpEEVL3TdkFizDNzkCsHxbDTp0jMv4w6+irWQuYfQjIdFkEyuAnrZV88H5/Uwlda6h9RZtgB7PDNrv9q3GTHs87W+p4bAlLCsT7BCvWh6BSXHD6y2mAfzr22yBtGojhq+sCL9L4397XhwEOiLNcSdWc/tP2vXW7HCokFXVaLXjbUyJTgAancag7vnLtyoyeFsfdF9mqOZnL3G3QIbkubMYX/wlDKx3QrZA4v/tBcAZBxREqEiJubUVav4TJFodXQJ3z4Nsqe6rb0/XIuPDlpjJ henrywojteczko@Henrys-MacBook-Pro-2.local\"\n",
    "\n",
    "create_nodepool_details = oci.container_engine.models.CreateNodePoolDetails(\n",
    "    cluster_id = cluster_id,\n",
    "    compartment_id = compartment_id,\n",
    "    kubernetes_version = kubernetes_version,\n",
    "    name = name,\n",
    "    node_config_details = node_config_details,\n",
    "    node_shape = node_shape,\n",
    "    node_source_details = node_source_details\n",
    ")"
   ]
  },
  {
   "cell_type": "code",
   "execution_count": 10,
   "metadata": {},
   "outputs": [
    {
     "ename": "NameError",
     "evalue": "name 'create_nodepool_details' is not defined",
     "output_type": "error",
     "traceback": [
      "\u001b[0;31m---------------------------------------------------------------------------\u001b[0m",
      "\u001b[0;31mNameError\u001b[0m                                 Traceback (most recent call last)",
      "\u001b[0;32m<ipython-input-10-e6aef5ae08ec>\u001b[0m in \u001b[0;36m<module>\u001b[0;34m\u001b[0m\n\u001b[0;32m----> 1\u001b[0;31m \u001b[0mcreate_nodepool_details\u001b[0m\u001b[0;34m\u001b[0m\u001b[0;34m\u001b[0m\u001b[0m\n\u001b[0m",
      "\u001b[0;31mNameError\u001b[0m: name 'create_nodepool_details' is not defined"
     ]
    }
   ],
   "source": [
    "create_nodepool_details"
   ]
  },
  {
   "cell_type": "code",
   "execution_count": 11,
   "metadata": {},
   "outputs": [
    {
     "ename": "NameError",
     "evalue": "name 'create_nodepool_details' is not defined",
     "output_type": "error",
     "traceback": [
      "\u001b[0;31m---------------------------------------------------------------------------\u001b[0m",
      "\u001b[0;31mNameError\u001b[0m                                 Traceback (most recent call last)",
      "\u001b[0;32m<ipython-input-11-8882f96f318a>\u001b[0m in \u001b[0;36m<module>\u001b[0;34m\u001b[0m\n\u001b[1;32m      1\u001b[0m create_nodepool_results = container_engine_client.create_node_pool (\n\u001b[0;32m----> 2\u001b[0;31m     \u001b[0mcreate_nodepool_details\u001b[0m\u001b[0;34m\u001b[0m\u001b[0;34m\u001b[0m\u001b[0m\n\u001b[0m\u001b[1;32m      3\u001b[0m )\n",
      "\u001b[0;31mNameError\u001b[0m: name 'create_nodepool_details' is not defined"
     ]
    }
   ],
   "source": [
    "create_nodepool_results = container_engine_client.create_node_pool (\n",
    "    create_nodepool_details\n",
    ")"
   ]
  },
  {
   "cell_type": "code",
   "execution_count": null,
   "metadata": {},
   "outputs": [],
   "source": []
  }
 ],
 "metadata": {
  "kernelspec": {
   "display_name": "Python 3",
   "language": "python",
   "name": "python3"
  },
  "language_info": {
   "codemirror_mode": {
    "name": "ipython",
    "version": 3
   },
   "file_extension": ".py",
   "mimetype": "text/x-python",
   "name": "python",
   "nbconvert_exporter": "python",
   "pygments_lexer": "ipython3",
   "version": "3.8.5"
  }
 },
 "nbformat": 4,
 "nbformat_minor": 4
}
