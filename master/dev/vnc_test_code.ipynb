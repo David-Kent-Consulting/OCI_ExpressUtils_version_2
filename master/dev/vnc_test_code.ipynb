{
 "cells": [
  {
   "cell_type": "code",
   "execution_count": 1,
   "metadata": {},
   "outputs": [],
   "source": [
    "import oci"
   ]
  },
  {
   "cell_type": "code",
   "execution_count": 2,
   "metadata": {},
   "outputs": [],
   "source": [
    "config = oci.config.from_file()\n",
    "# be certain to set the region to config prior to instantiating the object\n",
    "# network_client.\n",
    "network_client = oci.core.VirtualNetworkClient(config)"
   ]
  },
  {
   "cell_type": "code",
   "execution_count": null,
   "metadata": {},
   "outputs": [],
   "source": []
  },
  {
   "cell_type": "code",
   "execution_count": 3,
   "metadata": {},
   "outputs": [],
   "source": [
    "class GetVirtualCloudNetworks:\n",
    "    \n",
    "    def __init__(self, compartment_id):\n",
    "        self.compartment_id = compartment_id\n",
    "        self.virtual_cloud_networks = []\n",
    "        \n",
    "    def __str__(self):\n",
    "        return \"This method initializes the class objects for GetVirtualNetworks\"\n",
    "    \n",
    "    def populate_vcns(self):\n",
    "        \n",
    "        if len(self.virtual_cloud_networks) != 0:\n",
    "            return None\n",
    "        \n",
    "        results = network_client.list_vcns(\n",
    "            compartment_id = self.compartment_id\n",
    "        )\n",
    "        for item in results.data:\n",
    "            if item.lifecycle_state != \"TERMINATED\":\n",
    "                self.virtual_cloud_networks.append(item)\n"
   ]
  },
  {
   "cell_type": "code",
   "execution_count": null,
   "metadata": {},
   "outputs": [],
   "source": []
  }
 ],
 "metadata": {
  "kernelspec": {
   "display_name": "Python 3",
   "language": "python",
   "name": "python3"
  },
  "language_info": {
   "codemirror_mode": {
    "name": "ipython",
    "version": 3
   },
   "file_extension": ".py",
   "mimetype": "text/x-python",
   "name": "python",
   "nbconvert_exporter": "python",
   "pygments_lexer": "ipython3",
   "version": "3.8.5"
  }
 },
 "nbformat": 4,
 "nbformat_minor": 4
}
